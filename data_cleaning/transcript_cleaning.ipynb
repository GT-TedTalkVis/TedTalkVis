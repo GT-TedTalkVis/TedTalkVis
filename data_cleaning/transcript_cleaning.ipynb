{
 "cells": [
  {
   "cell_type": "code",
   "execution_count": 97,
   "metadata": {},
   "outputs": [],
   "source": [
    "%matplotlib inline\n",
    "\n",
    "import pandas as pd\n",
    "import textstat as tstat\n",
    "import matplotlib.pyplot as plt\n",
    "import numpy as np\n",
    "# import splitter"
   ]
  },
  {
   "cell_type": "code",
   "execution_count": 98,
   "metadata": {},
   "outputs": [],
   "source": [
    "# load data\n",
    "data_path = '../data/'\n",
    "transcript_data_file = 'transcripts.csv'\n",
    "data = pd.read_csv(data_path + transcript_data_file)"
   ]
  },
  {
   "cell_type": "code",
   "execution_count": 99,
   "metadata": {},
   "outputs": [
    {
     "data": {
      "text/html": [
       "<div>\n",
       "<style scoped>\n",
       "    .dataframe tbody tr th:only-of-type {\n",
       "        vertical-align: middle;\n",
       "    }\n",
       "\n",
       "    .dataframe tbody tr th {\n",
       "        vertical-align: top;\n",
       "    }\n",
       "\n",
       "    .dataframe thead th {\n",
       "        text-align: right;\n",
       "    }\n",
       "</style>\n",
       "<table border=\"1\" class=\"dataframe\">\n",
       "  <thead>\n",
       "    <tr style=\"text-align: right;\">\n",
       "      <th></th>\n",
       "      <th>transcript</th>\n",
       "      <th>url</th>\n",
       "    </tr>\n",
       "  </thead>\n",
       "  <tbody>\n",
       "    <tr>\n",
       "      <th>0</th>\n",
       "      <td>Good morning. How are you?(Laughter)It's been ...</td>\n",
       "      <td>https://www.ted.com/talks/ken_robinson_says_sc...</td>\n",
       "    </tr>\n",
       "    <tr>\n",
       "      <th>1</th>\n",
       "      <td>Thank you so much, Chris. And it's truly a gre...</td>\n",
       "      <td>https://www.ted.com/talks/al_gore_on_averting_...</td>\n",
       "    </tr>\n",
       "    <tr>\n",
       "      <th>2</th>\n",
       "      <td>(Music: \"The Sound of Silence,\" Simon &amp; Garfun...</td>\n",
       "      <td>https://www.ted.com/talks/david_pogue_says_sim...</td>\n",
       "    </tr>\n",
       "    <tr>\n",
       "      <th>3</th>\n",
       "      <td>If you're here today — and I'm very happy that...</td>\n",
       "      <td>https://www.ted.com/talks/majora_carter_s_tale...</td>\n",
       "    </tr>\n",
       "    <tr>\n",
       "      <th>4</th>\n",
       "      <td>About 10 years ago, I took on the task to teac...</td>\n",
       "      <td>https://www.ted.com/talks/hans_rosling_shows_t...</td>\n",
       "    </tr>\n",
       "  </tbody>\n",
       "</table>\n",
       "</div>"
      ],
      "text/plain": [
       "                                          transcript  \\\n",
       "0  Good morning. How are you?(Laughter)It's been ...   \n",
       "1  Thank you so much, Chris. And it's truly a gre...   \n",
       "2  (Music: \"The Sound of Silence,\" Simon & Garfun...   \n",
       "3  If you're here today — and I'm very happy that...   \n",
       "4  About 10 years ago, I took on the task to teac...   \n",
       "\n",
       "                                                 url  \n",
       "0  https://www.ted.com/talks/ken_robinson_says_sc...  \n",
       "1  https://www.ted.com/talks/al_gore_on_averting_...  \n",
       "2  https://www.ted.com/talks/david_pogue_says_sim...  \n",
       "3  https://www.ted.com/talks/majora_carter_s_tale...  \n",
       "4  https://www.ted.com/talks/hans_rosling_shows_t...  "
      ]
     },
     "execution_count": 99,
     "metadata": {},
     "output_type": "execute_result"
    }
   ],
   "source": [
    "# check data format\n",
    "num_transcripts = data.shape[0]\n",
    "data.head()"
   ]
  },
  {
   "cell_type": "code",
   "execution_count": 100,
   "metadata": {},
   "outputs": [],
   "source": [
    "# prepare data storage\n",
    "fk_dict = {}"
   ]
  },
  {
   "cell_type": "code",
   "execution_count": 101,
   "metadata": {},
   "outputs": [],
   "source": [
    "# Problematic characters in transcripts\n",
    "char_blacklist = ['♫', '♪']"
   ]
  },
  {
   "cell_type": "code",
   "execution_count": 102,
   "metadata": {},
   "outputs": [],
   "source": [
    "import re\n",
    "\n",
    "# Some data processing functions\n",
    "def url_to_label(url):\n",
    "    common_string = 'https://www.ted.com/talks/'\n",
    "    url = url.replace(common_string,'')\n",
    "    url = url.replace('\\n','')\n",
    "    \n",
    "    return url\n",
    "\n",
    "def clean_transcript(text, blacklist):\n",
    "\n",
    "    # it appears that these 'double notes' indicate ends of musical phrases\n",
    "    # making determination that this roughly equates to sentences\n",
    "    text = text.replace('♫♫', '.')\n",
    "    text = text.replace('♫ ♫', '.')\n",
    "    text = text.replace('♪♪', '.')\n",
    "    \n",
    "    # notice that there still exist single notes, so removing these\n",
    "    for char in blacklist:\n",
    "        text = text.replace(char,'')\n",
    "        \n",
    "    # remove transcript commentary (e.g. (Laughter))\n",
    "    # regex removes segments in parentheses\n",
    "    text = re.sub(r\"\\([^()]*\\)\",\"\",text)\n",
    "    \n",
    "    # add missing spaces (not perfect, adds spaces in quotations)\n",
    "    text = re.sub(r'\\.(?! )', '. ', re.sub(r' +', ' ', text))\n",
    "    text = re.sub(r'\\!(?! )', '. ', text)\n",
    "    text = re.sub(r'\\?(?! )', '. ', text)\n",
    "    \n",
    "    return text"
   ]
  },
  {
   "cell_type": "code",
   "execution_count": 103,
   "metadata": {},
   "outputs": [
    {
     "name": "stdout",
     "output_type": "stream",
     "text": [
      "Processing transcript 0 of 2467\n",
      "Processing transcript 100 of 2467\n",
      "Processing transcript 200 of 2467\n",
      "Processing transcript 300 of 2467\n",
      "Processing transcript 400 of 2467\n",
      "Processing transcript 500 of 2467\n",
      "Processing transcript 600 of 2467\n",
      "Processing transcript 700 of 2467\n",
      "Processing transcript 800 of 2467\n",
      "Processing transcript 900 of 2467\n",
      "Processing transcript 1000 of 2467\n",
      "Processing transcript 1100 of 2467\n",
      "Processing transcript 1200 of 2467\n",
      "Processing transcript 1300 of 2467\n",
      "Processing transcript 1400 of 2467\n",
      "Processing transcript 1500 of 2467\n",
      "Processing transcript 1600 of 2467\n",
      "Processing transcript 1700 of 2467\n",
      "Processing transcript 1800 of 2467\n",
      "Processing transcript 1900 of 2467\n",
      "Processing transcript 2000 of 2467\n",
      "Processing transcript 2100 of 2467\n",
      "Processing transcript 2200 of 2467\n",
      "Processing transcript 2300 of 2467\n",
      "Processing transcript 2400 of 2467\n"
     ]
    }
   ],
   "source": [
    "max_valid_score = 15 #temp for now\n",
    "\n",
    "manual_check_labels = []\n",
    "manual_check_idx = []\n",
    "\n",
    "# loop over talks and process transcripts\n",
    "for index, row in data.iterrows():\n",
    "    \n",
    "    if index % 100 == 0:\n",
    "        print(f'Processing transcript {index} of {num_transcripts}')\n",
    "    \n",
    "    #strip the url to get meaningful data key\n",
    "    label = url_to_label(row['url'])\n",
    "    \n",
    "    #preprocess the transcript to remove annotations/special characters\n",
    "#     tscript = clean_transcript(row['transcript'], char_blacklist)\n",
    "    row['transcript'] = clean_transcript(row['transcript'], char_blacklist)\n",
    "    \n",
    "    #perform text analysis\n",
    "    grade_score = tstat.flesch_kincaid_grade(row['transcript'])\n",
    "    \n",
    "    #transcript checking\n",
    "#     if label == 'morley_sings_women_of_hope':\n",
    "#     if label == 'lee_mokobe_a_powerful_poem_about_what_it_feels_like_to_be_transgender':\n",
    "#     if label == 'ken_robinson_says_schools_kill_creativity':\n",
    "#         print(row['transcript'])\n",
    "#         break\n",
    "\n",
    "    if grade_score > max_valid_score:\n",
    "        manual_check_labels.append(label)\n",
    "        manual_check_idx.append(index)\n",
    "#         print(row['transcript'])\n",
    "#         break\n",
    "    \n",
    "    #handle fused transcipts\n",
    "#     if grade_score > max_valid_score:\n",
    "        #use splitter to split up the compound words\n",
    "    \n",
    "    #store results to dictionary\n",
    "    fk_dict.update({label : grade_score})"
   ]
  },
  {
   "cell_type": "code",
   "execution_count": 104,
   "metadata": {},
   "outputs": [
    {
     "name": "stdout",
     "output_type": "stream",
     "text": [
      "['robert_gupta_between_music_and_medicine', 'toni_griffin_a_new_vision_for_rebuilding_detroit', 'jamila_lyiscott_3_ways_to_speak_english', 'glenn_greenwald_why_privacy_matters', 'teitur_home_is_a_song_i_ve_always_remembered', 'silk_road_ensemble_rhiannon_giddens_st_james_infirmary_blues']\n"
     ]
    }
   ],
   "source": [
    "# Check indexes for manual processing\n",
    "print(manual_check_labels)"
   ]
  },
  {
   "cell_type": "code",
   "execution_count": 106,
   "metadata": {},
   "outputs": [],
   "source": [
    "# save cleaned transcripts to csv file\n",
    "data.to_csv('cleaned_transcripts.csv', index=False)"
   ]
  },
  {
   "cell_type": "code",
   "execution_count": 82,
   "metadata": {
    "scrolled": false
   },
   "outputs": [
    {
     "name": "stdout",
     "output_type": "stream",
     "text": [
      "Max Score:  116.0\n",
      "Min Score:  -15.7\n",
      "Mean Score: 7.555762987012987\n",
      "Std Score:  3.2066311015997653\n"
     ]
    }
   ],
   "source": [
    "# Get basic stats\n",
    "grade_scores = list(fk_dict.values())\n",
    "\n",
    "print(f'Max Score:  {max(grade_scores)}')\n",
    "print(f'Min Score:  {min(grade_scores)}')\n",
    "print(f'Mean Score: {np.mean(grade_scores)}')\n",
    "print(f'Std Score:  {np.std(grade_scores)}')"
   ]
  },
  {
   "cell_type": "code",
   "execution_count": 84,
   "metadata": {},
   "outputs": [
    {
     "name": "stdout",
     "output_type": "stream",
     "text": [
      "Max Score:\n",
      "jamila_lyiscott_3_ways_to_speak_english\n",
      "\n",
      "Min Score:\n",
      "kenichi_ebina_s_magic_moves\n"
     ]
    }
   ],
   "source": [
    "# Find the max and min vals\n",
    "max_key = next(key for key, value in fk_dict.items() if value == max(grade_scores))\n",
    "min_key = next(key for key, value in fk_dict.items() if value == min(grade_scores))\n",
    "\n",
    "print('Max Score:')\n",
    "print(max_key)\n",
    "print()\n",
    "print('Min Score:')\n",
    "print(min_key)"
   ]
  },
  {
   "cell_type": "code",
   "execution_count": 86,
   "metadata": {},
   "outputs": [],
   "source": [
    "# Filter large values for now\n",
    "grade_scores_filt = [score for score in grade_scores if score <= 50]"
   ]
  },
  {
   "cell_type": "code",
   "execution_count": 87,
   "metadata": {},
   "outputs": [
    {
     "data": {
      "text/plain": [
       "Text(0.5,1,'Distribution of Speech Complexity')"
      ]
     },
     "execution_count": 87,
     "metadata": {},
     "output_type": "execute_result"
    },
    {
     "data": {
      "image/png": "[encoded data removed]",
      "text/plain": [
       "<Figure size 864x576 with 1 Axes>"
      ]
     },
     "metadata": {
      "needs_background": "light"
     },
     "output_type": "display_data"
    }
   ],
   "source": [
    "# Visualize the distribution\n",
    "fig = plt.figure(figsize=(12,8))\n",
    "fig = plt.hist(grade_scores_filt, 100)\n",
    "mean_line = plt.axvline(x=np.mean(grade_scores), color='r')\n",
    "plt.xlabel('Flesch–Kincaid Grade Level', size=14)\n",
    "plt.ylabel('Talk Count', size=14)\n",
    "plt.title('Distribution of Speech Complexity', size=18)"
   ]
  },
  {
   "cell_type": "code",
   "execution_count": null,
   "metadata": {},
   "outputs": [],
   "source": []
  }
 ],
 "metadata": {
  "kernelspec": {
   "display_name": "Python 3",
   "language": "python",
   "name": "python3"
  },
  "language_info": {
   "codemirror_mode": {
    "name": "ipython",
    "version": 3
   },
   "file_extension": ".py",
   "mimetype": "text/x-python",
   "name": "python",
   "nbconvert_exporter": "python",
   "pygments_lexer": "ipython3",
   "version": "3.7.4"
  }
 },
 "nbformat": 4,
 "nbformat_minor": 2
}
