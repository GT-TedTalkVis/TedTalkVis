{
 "cells": [
  {
   "cell_type": "code",
   "execution_count": 1,
   "metadata": {},
   "outputs": [],
   "source": [
    "import requests\n",
    "from bs4 import BeautifulSoup\n",
    "import json\n",
    "import numpy as np\n",
    "import pandas as pd\n",
    "import argparse\n",
    "import time\n",
    "import random"
   ]
  },
  {
   "cell_type": "code",
   "execution_count": 2,
   "metadata": {},
   "outputs": [
    {
     "name": "stdout",
     "output_type": "stream",
     "text": [
      "File opened.\n"
     ]
    }
   ],
   "source": [
    "# Load the CSV file\n",
    "data_path = '../src/data/'\n",
    "data_file = 'ted_main_page_data.csv'\n",
    "data = pd.read_csv(data_path + data_file)\n",
    "print(\"File opened.\")"
   ]
  },
  {
   "cell_type": "code",
   "execution_count": 4,
   "metadata": {
    "scrolled": true
   },
   "outputs": [
    {
     "data": {
      "text/plain": [
       "Index(['Unnamed: 0', 'Unnamed: 0.1', 'Unnamed: 0.1.1', 'Unnamed: 0.1.1.1',\n",
       "       'rowid', 'comments', 'description', 'duration', 'event', 'film_date',\n",
       "       'languages', 'main_speaker', 'name', 'num_speaker', 'published_date',\n",
       "       'ratings', 'related_talks', 'speaker_occupation', 'tags', 'title',\n",
       "       'url', 'views', 'page_data'],\n",
       "      dtype='object')"
      ]
     },
     "execution_count": 4,
     "metadata": {},
     "output_type": "execute_result"
    }
   ],
   "source": [
    "data.keys()"
   ]
  },
  {
   "cell_type": "code",
   "execution_count": 38,
   "metadata": {},
   "outputs": [],
   "source": [
    "data = data.drop(columns=[\"Unnamed: 0\", \"Unnamed: 0.1\", \"Unnamed: 0.1.1\", \"Unnamed: 0.1.1.1\"])"
   ]
  },
  {
   "cell_type": "code",
   "execution_count": 45,
   "metadata": {},
   "outputs": [
    {
     "data": {
      "text/html": [
       "<div>\n",
       "<style scoped>\n",
       "    .dataframe tbody tr th:only-of-type {\n",
       "        vertical-align: middle;\n",
       "    }\n",
       "\n",
       "    .dataframe tbody tr th {\n",
       "        vertical-align: top;\n",
       "    }\n",
       "\n",
       "    .dataframe thead th {\n",
       "        text-align: right;\n",
       "    }\n",
       "</style>\n",
       "<table border=\"1\" class=\"dataframe\">\n",
       "  <thead>\n",
       "    <tr style=\"text-align: right;\">\n",
       "      <th></th>\n",
       "      <th>rowid</th>\n",
       "      <th>comments</th>\n",
       "      <th>description</th>\n",
       "      <th>duration</th>\n",
       "      <th>event</th>\n",
       "      <th>film_date</th>\n",
       "      <th>languages</th>\n",
       "      <th>main_speaker</th>\n",
       "      <th>name</th>\n",
       "      <th>num_speaker</th>\n",
       "      <th>published_date</th>\n",
       "      <th>ratings</th>\n",
       "      <th>related_talks</th>\n",
       "      <th>speaker_occupation</th>\n",
       "      <th>tags</th>\n",
       "      <th>title</th>\n",
       "      <th>url</th>\n",
       "      <th>views</th>\n",
       "      <th>page_data</th>\n",
       "    </tr>\n",
       "  </thead>\n",
       "  <tbody>\n",
       "    <tr>\n",
       "      <th>288</th>\n",
       "      <td>288</td>\n",
       "      <td>85</td>\n",
       "      <td>The face of nuclear terror has changed since t...</td>\n",
       "      <td>1518</td>\n",
       "      <td>TED2008</td>\n",
       "      <td>1204243200</td>\n",
       "      <td>21</td>\n",
       "      <td>Irwin Redlener</td>\n",
       "      <td>Irwin Redlener: How to survive a nuclear attack</td>\n",
       "      <td>1</td>\n",
       "      <td>1220922000</td>\n",
       "      <td>[{'id': 8, 'name': 'Informative', 'count': 393...</td>\n",
       "      <td>[{'id': 167, 'hero': 'https://pe.tedcdn.com/im...</td>\n",
       "      <td>Physician, disaster-preparedness activist</td>\n",
       "      <td>['global issues', 'history', 'medicine', 'tech...</td>\n",
       "      <td>How to survive a nuclear attack</td>\n",
       "      <td>https://www.ted.com/talks/irwin_redlener_warns...</td>\n",
       "      <td>657688</td>\n",
       "      <td>{'comments': {'id': 298, 'count': 86, 'talk_id...</td>\n",
       "    </tr>\n",
       "    <tr>\n",
       "      <th>289</th>\n",
       "      <td>289</td>\n",
       "      <td>56</td>\n",
       "      <td>Brewster Kahle is building a truly huge digita...</td>\n",
       "      <td>1206</td>\n",
       "      <td>EG 2007</td>\n",
       "      <td>1197417600</td>\n",
       "      <td>24</td>\n",
       "      <td>Brewster Kahle</td>\n",
       "      <td>Brewster Kahle: A free digital library</td>\n",
       "      <td>1</td>\n",
       "      <td>1221008400</td>\n",
       "      <td>[{'id': 3, 'name': 'Courageous', 'count': 71},...</td>\n",
       "      <td>[{'id': 319, 'hero': 'https://pe.tedcdn.com/im...</td>\n",
       "      <td>Digital librarian</td>\n",
       "      <td>['books', 'design', 'entertainment', 'film', '...</td>\n",
       "      <td>A free digital library</td>\n",
       "      <td>https://www.ted.com/talks/brewster_kahle_build...</td>\n",
       "      <td>445781</td>\n",
       "      <td>NaN</td>\n",
       "    </tr>\n",
       "    <tr>\n",
       "      <th>290</th>\n",
       "      <td>290</td>\n",
       "      <td>66</td>\n",
       "      <td>With vibrant video clips captured by submarine...</td>\n",
       "      <td>800</td>\n",
       "      <td>TED1998</td>\n",
       "      <td>888624000</td>\n",
       "      <td>25</td>\n",
       "      <td>David Gallo</td>\n",
       "      <td>David Gallo: Life in the deep oceans</td>\n",
       "      <td>1</td>\n",
       "      <td>1221094800</td>\n",
       "      <td>[{'id': 10, 'name': 'Inspiring', 'count': 155}...</td>\n",
       "      <td>[{'id': 40, 'hero': 'https://pe.tedcdn.com/ima...</td>\n",
       "      <td>Oceanographer</td>\n",
       "      <td>['animals', 'geology', 'life', 'oceans', 'scie...</td>\n",
       "      <td>Life in the deep oceans</td>\n",
       "      <td>https://www.ted.com/talks/david_gallo_on_life_...</td>\n",
       "      <td>996736</td>\n",
       "      <td>{'comments': {'id': 297, 'count': 75, 'talk_id...</td>\n",
       "    </tr>\n",
       "    <tr>\n",
       "      <th>291</th>\n",
       "      <td>291</td>\n",
       "      <td>68</td>\n",
       "      <td>Storyteller Carmen Agra Deedy spins a funny, w...</td>\n",
       "      <td>1414</td>\n",
       "      <td>TED2005</td>\n",
       "      <td>1107302400</td>\n",
       "      <td>23</td>\n",
       "      <td>Carmen Agra Deedy</td>\n",
       "      <td>Carmen Agra Deedy: Once upon a time, my mother...</td>\n",
       "      <td>1</td>\n",
       "      <td>1221181200</td>\n",
       "      <td>[{'id': 25, 'name': 'OK', 'count': 84}, {'id':...</td>\n",
       "      <td>[{'id': 60, 'hero': 'https://pe.tedcdn.com/ima...</td>\n",
       "      <td>Storyteller</td>\n",
       "      <td>['children', 'entertainment', 'memory', 'story...</td>\n",
       "      <td>Once upon a time, my mother ...</td>\n",
       "      <td>https://www.ted.com/talks/carmen_agra_deedy_sp...</td>\n",
       "      <td>672797</td>\n",
       "      <td>NaN</td>\n",
       "    </tr>\n",
       "    <tr>\n",
       "      <th>292</th>\n",
       "      <td>292</td>\n",
       "      <td>12</td>\n",
       "      <td>Keith Bellows gleefully outlines the engineeri...</td>\n",
       "      <td>966</td>\n",
       "      <td>TED2002</td>\n",
       "      <td>1012608000</td>\n",
       "      <td>18</td>\n",
       "      <td>Keith Bellows</td>\n",
       "      <td>Keith Bellows: The camel's hump</td>\n",
       "      <td>1</td>\n",
       "      <td>1221440400</td>\n",
       "      <td>[{'id': 8, 'name': 'Informative', 'count': 68}...</td>\n",
       "      <td>[{'id': 69, 'hero': 'https://pe.tedcdn.com/ima...</td>\n",
       "      <td>Traveler</td>\n",
       "      <td>['animals', 'energy', 'entertainment', 'global...</td>\n",
       "      <td>The camel's hump</td>\n",
       "      <td>https://www.ted.com/talks/keith_bellows_on_the...</td>\n",
       "      <td>185275</td>\n",
       "      <td>{'comments': {'id': 299, 'count': 12, 'talk_id...</td>\n",
       "    </tr>\n",
       "  </tbody>\n",
       "</table>\n",
       "</div>"
      ],
      "text/plain": [
       "     rowid  comments                                        description  \\\n",
       "288    288        85  The face of nuclear terror has changed since t...   \n",
       "289    289        56  Brewster Kahle is building a truly huge digita...   \n",
       "290    290        66  With vibrant video clips captured by submarine...   \n",
       "291    291        68  Storyteller Carmen Agra Deedy spins a funny, w...   \n",
       "292    292        12  Keith Bellows gleefully outlines the engineeri...   \n",
       "\n",
       "     duration    event   film_date  languages       main_speaker  \\\n",
       "288      1518  TED2008  1204243200         21     Irwin Redlener   \n",
       "289      1206  EG 2007  1197417600         24     Brewster Kahle   \n",
       "290       800  TED1998   888624000         25        David Gallo   \n",
       "291      1414  TED2005  1107302400         23  Carmen Agra Deedy   \n",
       "292       966  TED2002  1012608000         18      Keith Bellows   \n",
       "\n",
       "                                                  name  num_speaker  \\\n",
       "288    Irwin Redlener: How to survive a nuclear attack            1   \n",
       "289             Brewster Kahle: A free digital library            1   \n",
       "290               David Gallo: Life in the deep oceans            1   \n",
       "291  Carmen Agra Deedy: Once upon a time, my mother...            1   \n",
       "292                    Keith Bellows: The camel's hump            1   \n",
       "\n",
       "     published_date                                            ratings  \\\n",
       "288      1220922000  [{'id': 8, 'name': 'Informative', 'count': 393...   \n",
       "289      1221008400  [{'id': 3, 'name': 'Courageous', 'count': 71},...   \n",
       "290      1221094800  [{'id': 10, 'name': 'Inspiring', 'count': 155}...   \n",
       "291      1221181200  [{'id': 25, 'name': 'OK', 'count': 84}, {'id':...   \n",
       "292      1221440400  [{'id': 8, 'name': 'Informative', 'count': 68}...   \n",
       "\n",
       "                                         related_talks  \\\n",
       "288  [{'id': 167, 'hero': 'https://pe.tedcdn.com/im...   \n",
       "289  [{'id': 319, 'hero': 'https://pe.tedcdn.com/im...   \n",
       "290  [{'id': 40, 'hero': 'https://pe.tedcdn.com/ima...   \n",
       "291  [{'id': 60, 'hero': 'https://pe.tedcdn.com/ima...   \n",
       "292  [{'id': 69, 'hero': 'https://pe.tedcdn.com/ima...   \n",
       "\n",
       "                            speaker_occupation  \\\n",
       "288  Physician, disaster-preparedness activist   \n",
       "289                          Digital librarian   \n",
       "290                              Oceanographer   \n",
       "291                                Storyteller   \n",
       "292                                   Traveler   \n",
       "\n",
       "                                                  tags  \\\n",
       "288  ['global issues', 'history', 'medicine', 'tech...   \n",
       "289  ['books', 'design', 'entertainment', 'film', '...   \n",
       "290  ['animals', 'geology', 'life', 'oceans', 'scie...   \n",
       "291  ['children', 'entertainment', 'memory', 'story...   \n",
       "292  ['animals', 'energy', 'entertainment', 'global...   \n",
       "\n",
       "                               title  \\\n",
       "288  How to survive a nuclear attack   \n",
       "289           A free digital library   \n",
       "290          Life in the deep oceans   \n",
       "291  Once upon a time, my mother ...   \n",
       "292                 The camel's hump   \n",
       "\n",
       "                                                   url   views  \\\n",
       "288  https://www.ted.com/talks/irwin_redlener_warns...  657688   \n",
       "289  https://www.ted.com/talks/brewster_kahle_build...  445781   \n",
       "290  https://www.ted.com/talks/david_gallo_on_life_...  996736   \n",
       "291  https://www.ted.com/talks/carmen_agra_deedy_sp...  672797   \n",
       "292  https://www.ted.com/talks/keith_bellows_on_the...  185275   \n",
       "\n",
       "                                             page_data  \n",
       "288  {'comments': {'id': 298, 'count': 86, 'talk_id...  \n",
       "289                                                NaN  \n",
       "290  {'comments': {'id': 297, 'count': 75, 'talk_id...  \n",
       "291                                                NaN  \n",
       "292  {'comments': {'id': 299, 'count': 12, 'talk_id...  "
      ]
     },
     "execution_count": 45,
     "metadata": {},
     "output_type": "execute_result"
    }
   ],
   "source": [
    "data.loc[288:292,:]"
   ]
  },
  {
   "cell_type": "code",
   "execution_count": 50,
   "metadata": {},
   "outputs": [
    {
     "data": {
      "text/plain": [
       "float"
      ]
     },
     "execution_count": 50,
     "metadata": {},
     "output_type": "execute_result"
    }
   ],
   "source": [
    "type(data.loc[289, \"page_data\"])"
   ]
  },
  {
   "cell_type": "code",
   "execution_count": 61,
   "metadata": {},
   "outputs": [],
   "source": [
    "missing_data = data.loc[data[\"page_data\"].isna(),:]"
   ]
  },
  {
   "cell_type": "code",
   "execution_count": 59,
   "metadata": {},
   "outputs": [],
   "source": [
    "def scrapePage(url: str):\n",
    "    page = requests.get(url)\n",
    "    # Create a BeautifulSoup object\n",
    "    soup = BeautifulSoup(page.content, 'html.parser')\n",
    "    tag = soup.find('script', attrs={\"data-spec\":\"q\"})\n",
    "    tag = str(tag)\n",
    "    start = tag.find('{\"el\"')\n",
    "    end = tag.find('})', start) + 1\n",
    "    if start == -1 or end == -1:\n",
    "        print(\"Failed to parse URL: \" + url)\n",
    "        return np.NaN, np.NaN\n",
    "    j = tag[start:end]\n",
    "    j = json.loads(j)\n",
    "    # speaker_data = j['__INITIAL_DATA__']['speakers']\n",
    "    thumbnail = j['__INITIAL_DATA__']['talks'][0]['hero']\n",
    "    return j['__INITIAL_DATA__'], thumbnail"
   ]
  },
  {
   "cell_type": "code",
   "execution_count": 60,
   "metadata": {},
   "outputs": [
    {
     "name": "stdout",
     "output_type": "stream",
     "text": [
      "Retrived page data for row: 91\n",
      "Retrived page data for row: 97\n",
      "Retrived page data for row: 289\n",
      "Retrived page data for row: 291\n",
      "Retrived page data for row: 300\n",
      "Retrived page data for row: 301\n",
      "Retrived page data for row: 304\n",
      "Retrived page data for row: 321\n",
      "Retrived page data for row: 323\n",
      "Retrived page data for row: 325\n",
      "Retrived page data for row: 329\n",
      "Retrived page data for row: 330\n",
      "Retrived page data for row: 378\n",
      "Retrived page data for row: 411\n",
      "Retrived page data for row: 463\n",
      "Retrived page data for row: 589\n",
      "Retrived page data for row: 590\n",
      "Retrived page data for row: 699\n",
      "Retrived page data for row: 853\n",
      "Retrived page data for row: 854\n",
      "Retrived page data for row: 855\n",
      "Retrived page data for row: 957\n",
      "Failed to parse URL: https://www.ted.com/talks/emiliano_salinas_a_civil_response_to_violence\n",
      "\n",
      "Retrived page data for row: 969\n",
      "Retrived page data for row: 1130\n",
      "Retrived page data for row: 1157\n",
      "Retrived page data for row: 1181\n",
      "Retrived page data for row: 1252\n",
      "Retrived page data for row: 1254\n",
      "Retrived page data for row: 1322\n",
      "Retrived page data for row: 1326\n",
      "Retrived page data for row: 1364\n",
      "Retrived page data for row: 1387\n",
      "Retrived page data for row: 1389\n",
      "Retrived page data for row: 1401\n",
      "Retrived page data for row: 1529\n",
      "Failed to parse URL: https://www.ted.com/talks/two_young_scientists_break_down_plastics_with_bacteria\n",
      "\n",
      "Retrived page data for row: 1549\n",
      "Retrived page data for row: 1559\n",
      "Failed to parse URL: https://www.ted.com/talks/eddy_cartaya_my_glacier_cave_discoveries\n",
      "\n",
      "Retrived page data for row: 1641\n",
      "Retrived page data for row: 1684\n",
      "Failed to parse URL: https://www.ted.com/talks/catherine_bracy_why_good_hackers_make_good_citizens\n",
      "\n",
      "Retrived page data for row: 1686\n",
      "Retrived page data for row: 1687\n",
      "Retrived page data for row: 1801\n",
      "Retrived page data for row: 1806\n",
      "Retrived page data for row: 1863\n",
      "Retrived page data for row: 1865\n",
      "Retrived page data for row: 1886\n",
      "Failed to parse URL: https://www.ted.com/talks/boniface_mwangi_boniface_mwangi_the_day_i_stood_up_alone\n",
      "\n",
      "Retrived page data for row: 1949\n",
      "Failed to parse URL: https://www.ted.com/talks/tom_uglow_an_internet_without_screens_might_look_like_this\n",
      "\n",
      "Retrived page data for row: 2070\n",
      "Retrived page data for row: 2121\n",
      "Retrived page data for row: 2155\n",
      "Failed to parse URL: https://www.ted.com/talks/eric_haseltine_what_will_be_the_next_big_scientific_breakthrough\n",
      "\n",
      "Retrived page data for row: 2245\n",
      "Retrived page data for row: 2323\n",
      "Retrived page data for row: 2324\n",
      "Retrived page data for row: 2396\n",
      "Retrived page data for row: 2457\n",
      "Retrived page data for row: 2492\n"
     ]
    }
   ],
   "source": [
    "for i in missing_data.index:\n",
    "    url = data.loc[i, \"url\"]\n",
    "    page_data, thumbnail = scrapePage(url)\n",
    "    page_string = str(page_data)\n",
    "    data.loc[i, \"page_data\"] = page_string\n",
    "    print(\"Retrived page data for row: \" + str(i))\n",
    "    time.sleep(4 + random.randint(-1, 2))"
   ]
  },
  {
   "cell_type": "code",
   "execution_count": 69,
   "metadata": {},
   "outputs": [
    {
     "data": {
      "text/plain": [
       "'nan'"
      ]
     },
     "execution_count": 69,
     "metadata": {},
     "output_type": "execute_result"
    }
   ],
   "source": [
    "data.loc[1949, \"page_data\"]"
   ]
  },
  {
   "cell_type": "code",
   "execution_count": 70,
   "metadata": {},
   "outputs": [],
   "source": [
    "missing_data = data.loc[data[\"page_data\"] == \"nan\",:]"
   ]
  },
  {
   "cell_type": "code",
   "execution_count": 71,
   "metadata": {},
   "outputs": [
    {
     "data": {
      "text/plain": [
       "Int64Index([969, 1549, 1641, 1686, 1949, 2070, 2245], dtype='int64')"
      ]
     },
     "execution_count": 71,
     "metadata": {},
     "output_type": "execute_result"
    }
   ],
   "source": [
    "missing_data.index"
   ]
  },
  {
   "cell_type": "code",
   "execution_count": 72,
   "metadata": {},
   "outputs": [
    {
     "name": "stdout",
     "output_type": "stream",
     "text": [
      "Failed to parse URL: https://www.ted.com/talks/emiliano_salinas_a_civil_response_to_violence\n",
      "\n",
      "Retrived page data for row: 969\n",
      "Failed to parse URL: https://www.ted.com/talks/two_young_scientists_break_down_plastics_with_bacteria\n",
      "\n",
      "Retrived page data for row: 1549\n",
      "Retrived page data for row: 1641\n",
      "Retrived page data for row: 1686\n",
      "Retrived page data for row: 1949\n",
      "Retrived page data for row: 2070\n",
      "Failed to parse URL: https://www.ted.com/talks/eric_haseltine_what_will_be_the_next_big_scientific_breakthrough\n",
      "\n",
      "Retrived page data for row: 2245\n"
     ]
    }
   ],
   "source": [
    "for i in missing_data.index:\n",
    "    url = data.loc[i, \"url\"]\n",
    "    page_data, thumbnail = scrapePage(url)\n",
    "    page_string = str(page_data)\n",
    "    data.loc[i, \"page_data\"] = page_string\n",
    "    print(\"Retrived page data for row: \" + str(i))\n",
    "    time.sleep(4 + random.randint(-1, 2))"
   ]
  },
  {
   "cell_type": "code",
   "execution_count": 73,
   "metadata": {},
   "outputs": [],
   "source": [
    "missing_data = data.loc[data[\"page_data\"] == \"nan\",:]"
   ]
  },
  {
   "cell_type": "code",
   "execution_count": 74,
   "metadata": {},
   "outputs": [
    {
     "data": {
      "text/plain": [
       "Int64Index([969, 1549, 2245], dtype='int64')"
      ]
     },
     "execution_count": 74,
     "metadata": {},
     "output_type": "execute_result"
    }
   ],
   "source": [
    "missing_data.index"
   ]
  },
  {
   "cell_type": "code",
   "execution_count": 76,
   "metadata": {},
   "outputs": [],
   "source": [
    "truly_missing = data.loc[missing_data.index, :]"
   ]
  },
  {
   "cell_type": "code",
   "execution_count": 77,
   "metadata": {},
   "outputs": [],
   "source": [
    "truly_missing.to_csv(\"ted_dead_links.csv\", index=False)"
   ]
  },
  {
   "cell_type": "code",
   "execution_count": 79,
   "metadata": {},
   "outputs": [
    {
     "data": {
      "text/html": [
       "<div>\n",
       "<style scoped>\n",
       "    .dataframe tbody tr th:only-of-type {\n",
       "        vertical-align: middle;\n",
       "    }\n",
       "\n",
       "    .dataframe tbody tr th {\n",
       "        vertical-align: top;\n",
       "    }\n",
       "\n",
       "    .dataframe thead th {\n",
       "        text-align: right;\n",
       "    }\n",
       "</style>\n",
       "<table border=\"1\" class=\"dataframe\">\n",
       "  <thead>\n",
       "    <tr style=\"text-align: right;\">\n",
       "      <th></th>\n",
       "      <th>name</th>\n",
       "      <th>main_speaker</th>\n",
       "      <th>event</th>\n",
       "    </tr>\n",
       "  </thead>\n",
       "  <tbody>\n",
       "    <tr>\n",
       "      <th>969</th>\n",
       "      <td>Emiliano Salinas: A civil response to violence</td>\n",
       "      <td>Emiliano Salinas</td>\n",
       "      <td>TEDxSanMigueldeAllende</td>\n",
       "    </tr>\n",
       "    <tr>\n",
       "      <th>1549</th>\n",
       "      <td>Two young scientists break down plastics with ...</td>\n",
       "      <td>Miranda Wang and Jeanny Yao</td>\n",
       "      <td>TED2013</td>\n",
       "    </tr>\n",
       "    <tr>\n",
       "      <th>2245</th>\n",
       "      <td>Eric Haseltine: What will be the next big scie...</td>\n",
       "      <td>Eric Haseltine</td>\n",
       "      <td>TED Talks Live</td>\n",
       "    </tr>\n",
       "  </tbody>\n",
       "</table>\n",
       "</div>"
      ],
      "text/plain": [
       "                                                   name  \\\n",
       "969      Emiliano Salinas: A civil response to violence   \n",
       "1549  Two young scientists break down plastics with ...   \n",
       "2245  Eric Haseltine: What will be the next big scie...   \n",
       "\n",
       "                     main_speaker                   event  \n",
       "969              Emiliano Salinas  TEDxSanMigueldeAllende  \n",
       "1549  Miranda Wang and Jeanny Yao                 TED2013  \n",
       "2245               Eric Haseltine          TED Talks Live  "
      ]
     },
     "execution_count": 79,
     "metadata": {},
     "output_type": "execute_result"
    }
   ],
   "source": [
    "truly_missing.loc[:, [\"name\", \"main_speaker\", \"event\"]]"
   ]
  },
  {
   "cell_type": "code",
   "execution_count": 80,
   "metadata": {},
   "outputs": [],
   "source": [
    "data.to_csv(\"ted_main_pagedata_unparsed.csv\", index=False)"
   ]
  }
 ],
 "metadata": {
  "kernelspec": {
   "display_name": "Python 3",
   "language": "python",
   "name": "python3"
  },
  "language_info": {
   "codemirror_mode": {
    "name": "ipython",
    "version": 3
   },
   "file_extension": ".py",
   "mimetype": "text/x-python",
   "name": "python",
   "nbconvert_exporter": "python",
   "pygments_lexer": "ipython3",
   "version": "3.7.4"
  }
 },
 "nbformat": 4,
 "nbformat_minor": 2
}
