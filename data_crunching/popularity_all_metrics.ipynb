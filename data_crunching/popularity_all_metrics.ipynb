{
 "cells": [
  {
   "cell_type": "code",
   "execution_count": 1,
   "metadata": {},
   "outputs": [],
   "source": [
    "import pandas as pd\n",
    "import matplotlib.pyplot as plt\n",
    "import json"
   ]
  },
  {
   "cell_type": "markdown",
   "metadata": {},
   "source": [
    "# TED Site Data"
   ]
  },
  {
   "cell_type": "code",
   "execution_count": 2,
   "metadata": {},
   "outputs": [],
   "source": [
    "path = '../src/data/'\n",
    "data_file = 'ted_main.csv'"
   ]
  },
  {
   "cell_type": "code",
   "execution_count": 3,
   "metadata": {},
   "outputs": [],
   "source": [
    "data = pd.read_csv(path + data_file)\n",
    "num_talks = data.shape[0]"
   ]
  },
  {
   "cell_type": "code",
   "execution_count": 4,
   "metadata": {},
   "outputs": [],
   "source": [
    "positive_tags = ['Funny', 'Beautiful', 'Ingenious',\n",
    "                 'Courageous', 'Informative', 'Fascinating',\n",
    "                 'Persuasive', 'Jaw-dropping', 'Inspiring']\n",
    "negative_tags = ['Longwinded', 'Confusing', 'Unconvincing',\n",
    "                 'OK', 'Obnoxious']"
   ]
  },
  {
   "cell_type": "code",
   "execution_count": 5,
   "metadata": {
    "scrolled": true
   },
   "outputs": [
    {
     "name": "stdout",
     "output_type": "stream",
     "text": [
      "Processing transcript 0 of 2550\n",
      "Processing transcript 100 of 2550\n",
      "Processing transcript 200 of 2550\n",
      "Processing transcript 300 of 2550\n",
      "Processing transcript 400 of 2550\n",
      "Processing transcript 500 of 2550\n",
      "Processing transcript 600 of 2550\n",
      "Processing transcript 700 of 2550\n",
      "Processing transcript 800 of 2550\n",
      "Processing transcript 900 of 2550\n",
      "Processing transcript 1000 of 2550\n",
      "Processing transcript 1100 of 2550\n",
      "Processing transcript 1200 of 2550\n",
      "Processing transcript 1300 of 2550\n",
      "Processing transcript 1400 of 2550\n",
      "Processing transcript 1500 of 2550\n",
      "Processing transcript 1600 of 2550\n",
      "Processing transcript 1700 of 2550\n",
      "Processing transcript 1800 of 2550\n",
      "Processing transcript 1900 of 2550\n",
      "Processing transcript 2000 of 2550\n",
      "Processing transcript 2100 of 2550\n",
      "Processing transcript 2200 of 2550\n",
      "Processing transcript 2300 of 2550\n",
      "Processing transcript 2400 of 2550\n",
      "\n",
      "Talk with all positive reactions:\n",
      "\n",
      "Manu Prakash: Lifesaving scientific tools made of paper\n",
      "499\n",
      "0\n",
      "\n",
      "Talk with all positive reactions:\n",
      "\n",
      "Jorge Ramos: Why journalists have an obligation to challenge power\n",
      "355\n",
      "0\n",
      "\n",
      "Talk with all positive reactions:\n",
      "\n",
      "Kristen Marhaver: Why I still have hope for coral reefs\n",
      "143\n",
      "0\n",
      "Processing transcript 2500 of 2550\n",
      "\n",
      "Talk with all positive reactions:\n",
      "\n",
      "Ronald Sullivan: How I help free innocent people from prison\n",
      "270\n",
      "0\n",
      "\n",
      "Talk with all positive reactions:\n",
      "\n",
      "Chance Coughenour: How your pictures can help reclaim lost history\n",
      "68\n",
      "0\n"
     ]
    }
   ],
   "source": [
    "ted_views = []\n",
    "ted_comments = []\n",
    "pos_neg_ratio = []\n",
    "comment_view_ratio = []\n",
    "\n",
    "#for computing aggregate metrics\n",
    "ted_positive = []\n",
    "ted_negative = []\n",
    "\n",
    "for index, row in data.iterrows():\n",
    "    \n",
    "    if index % 100 == 0:\n",
    "        print(f'Processing transcript {index} of {num_talks}')\n",
    "        \n",
    "    ### Compute Positive to Negative Reaction Ratio ###\n",
    "        \n",
    "    pos_count = 0\n",
    "    neg_count = 0\n",
    "    \n",
    "    ratings = json.loads(row['ratings'].replace(\"'\", '\"'))\n",
    "    for tag in ratings:\n",
    "        if tag['name'] in positive_tags:\n",
    "            pos_count += tag['count']\n",
    "        elif tag['name'] in negative_tags:\n",
    "            neg_count += tag['count']\n",
    "            \n",
    "    try:\n",
    "        pos_neg_ratio.append(pos_count/neg_count)\n",
    "    except:\n",
    "        print('\\nTalk with all positive reactions:\\n')\n",
    "        print(row['name'])\n",
    "        print(pos_count)\n",
    "        print(neg_count)\n",
    "        pos_neg_ratio.append(pos_count/1)\n",
    "        \n",
    "    ted_positive.append(pos_count)\n",
    "    ted_negative.append(neg_count)\n",
    "    \n",
    "    ### Compute Comment to View Ratio ###\n",
    "    \n",
    "    comment_view_ratio.append(row['comments']/row['views'])\n",
    "    \n",
    "    ted_views.append(row['views'])\n",
    "    ted_comments.append(row['comments'])\n",
    "            "
   ]
  },
  {
   "cell_type": "code",
   "execution_count": 6,
   "metadata": {},
   "outputs": [
    {
     "name": "stdout",
     "output_type": "stream",
     "text": [
      "2550\n",
      "2550\n",
      "2550\n"
     ]
    }
   ],
   "source": [
    "# validate lengths\n",
    "print(data.shape[0])\n",
    "print(len(pos_neg_ratio))\n",
    "print(len(comment_view_ratio))"
   ]
  },
  {
   "cell_type": "code",
   "execution_count": 7,
   "metadata": {},
   "outputs": [],
   "source": [
    "# normalize metrics\n",
    "# pn_norm = [i/max(pos_neg_ratio) for i in pos_neg_ratio]\n",
    "# cv_norm = [i/max(comment_view_ratio) for i in comment_view_ratio]"
   ]
  },
  {
   "cell_type": "code",
   "execution_count": 8,
   "metadata": {},
   "outputs": [],
   "source": [
    "# rounding\n",
    "pos_neg_ratio = [round(i, 5) for i in pos_neg_ratio]\n",
    "comment_view_ratio = [round(i, 5) for i in comment_view_ratio]"
   ]
  },
  {
   "cell_type": "code",
   "execution_count": 9,
   "metadata": {},
   "outputs": [
    {
     "name": "stdout",
     "output_type": "stream",
     "text": [
      "[0.0001, 8e-05, 8e-05, 0.00012, 5e-05]\n"
     ]
    }
   ],
   "source": [
    "print(comment_view_ratio[0:5])"
   ]
  },
  {
   "cell_type": "markdown",
   "metadata": {},
   "source": [
    "# Youtube Data"
   ]
  },
  {
   "cell_type": "code",
   "execution_count": 10,
   "metadata": {},
   "outputs": [],
   "source": [
    "path = '../../data/'\n",
    "data_file = 'ted_merged_site_yt.csv'"
   ]
  },
  {
   "cell_type": "code",
   "execution_count": 11,
   "metadata": {},
   "outputs": [],
   "source": [
    "yt_data = pd.read_csv(path + data_file)\n",
    "yt_num_talks = yt_data.shape[0]"
   ]
  },
  {
   "cell_type": "code",
   "execution_count": 12,
   "metadata": {},
   "outputs": [
    {
     "name": "stdout",
     "output_type": "stream",
     "text": [
      "Processing transcript 0 of 2550\n",
      "\n",
      "Talk with all positive reactions:\n",
      "\tNeil Gershenfeld: Unleash your creativity in a Fab Lab\n",
      "\t18.0\n",
      "\t0.0\n",
      "\n",
      "Talk with all positive reactions:\n",
      "\tDean Kamen: To invent is to give\n",
      "\t1.0\n",
      "\t0.0\n",
      "\n",
      "Talk with all positive reactions:\n",
      "\tGolan Levin: Software (as) art\n",
      "\t5.0\n",
      "\t0.0\n",
      "\n",
      "Talk with all positive reactions:\n",
      "\tJill Sobule: Global warming's theme song, \"Manhattan in January\"\n",
      "\t0.0\n",
      "\t0.0\n",
      "\n",
      "Talk with all positive reactions:\n",
      "\tRives: A mockingbird remix of TED2006\n",
      "\t69.0\n",
      "\t0.0\n",
      "Processing transcript 100 of 2550\n",
      "\n",
      "Talk with all positive reactions:\n",
      "\tNatalie MacMaster: Cape Breton fiddling in reel time\n",
      "\t5.0\n",
      "\t0.0\n",
      "\n",
      "Talk with all positive reactions:\n",
      "\tStew: \"Black Men Ski\"\n",
      "\t9.0\n",
      "\t0.0\n",
      "\n",
      "Talk with all positive reactions:\n",
      "\tStewart Brand: What squatter cities can teach us\n",
      "\t4.0\n",
      "\t0.0\n",
      "\n",
      "Talk with all positive reactions:\n",
      "\tEthel: A string quartet plays \"Blue Room\"\n",
      "\t4.0\n",
      "\t0.0\n",
      "\n",
      "Talk with all positive reactions:\n",
      "\tBill Stone: I'm going to the moon. Who's with me?\n",
      "\t7.0\n",
      "\t0.0\n",
      "\n",
      "Talk with all positive reactions:\n",
      "\tDeborah Scranton: An Iraq war movie crowd-sourced from soldiers\n",
      "\t1.0\n",
      "\t0.0\n",
      "\n",
      "Talk with all positive reactions:\n",
      "\tHod Lipson: Building \"self-aware\" robots\n",
      "\t12.0\n",
      "\t0.0\n",
      "\n",
      "Talk with all positive reactions:\n",
      "\tPaul Rothemund: Playing with DNA that self-assembles\n",
      "\t8.0\n",
      "\t0.0\n",
      "\n",
      "Talk with all positive reactions:\n",
      "\tFrank Gehry: A master architect asks, Now what?\n",
      "\t3.0\n",
      "\t0.0\n",
      "\n",
      "Talk with all positive reactions:\n",
      "\tAlison Jackson: An unusual glimpse at celebrity\n",
      "\t1.0\n",
      "\t0.0\n",
      "\n",
      "Talk with all positive reactions:\n",
      "\tRobin Chase: The idea behind Zipcar (and what comes next)\n",
      "\t3.0\n",
      "\t0.0\n",
      "\n",
      "Talk with all positive reactions:\n",
      "\tSteve Jurvetson: Model rocketry\n",
      "\t2.0\n",
      "\t0.0\n",
      "Processing transcript 200 of 2550\n",
      "\n",
      "Talk with all positive reactions:\n",
      "\tSeyi Oyesola: A hospital tour in Nigeria\n",
      "\t3.0\n",
      "\t0.0\n",
      "\n",
      "Talk with all positive reactions:\n",
      "\tBruno Bowden + Rufus Cappadocia: Blindfold origami and cello\n",
      "\t3.0\n",
      "\t0.0\n",
      "\n",
      "Talk with all positive reactions:\n",
      "\tJohn Q. Walker: Great piano performances, recreated\n",
      "\t2.0\n",
      "\t0.0\n",
      "\n",
      "Talk with all positive reactions:\n",
      "\tJonathan Drori: What we think we know\n",
      "\t4.0\n",
      "\t0.0\n",
      "Processing transcript 300 of 2550\n",
      "\n",
      "Talk with all positive reactions:\n",
      "\tStefan Sagmeister: Things I've learned in my life so far\n",
      "\t120.0\n",
      "\t0.0\n",
      "\n",
      "Talk with all positive reactions:\n",
      "\tJames Nachtwey: Moving photos of extreme drug-resistant TB\n",
      "\t0.0\n",
      "\t0.0\n",
      "\n",
      "Talk with all positive reactions:\n",
      "\tStewart Brand: The Long Now\n",
      "\t34.0\n",
      "\t0.0\n",
      "\n",
      "Talk with all positive reactions:\n",
      "\tFranco Sacchi: A tour of Nollywood, Nigeria's booming film industry\n",
      "\t2.0\n",
      "\t0.0\n",
      "\n",
      "Talk with all positive reactions:\n",
      "\tLarry Burns: The future of cars\n",
      "\t2.0\n",
      "\t0.0\n",
      "\n",
      "Talk with all positive reactions:\n",
      "\tJay Walker: My library of human imagination\n",
      "\t27.0\n",
      "\t0.0\n",
      "Processing transcript 400 of 2550\n",
      "\n",
      "Talk with all positive reactions:\n",
      "\tChristopher C. Deam: The Airstream, restyled\n",
      "\t3.0\n",
      "\t0.0\n",
      "\n",
      "Talk with all positive reactions:\n",
      "\tAl Gore: What comes after An Inconvenient Truth?\n",
      "\t9.0\n",
      "\t0.0\n",
      "\n",
      "Talk with all positive reactions:\n",
      "\tEric Lewis: Chaos and harmony on piano\n",
      "\t1.0\n",
      "\t0.0\n",
      "Processing transcript 500 of 2550\n",
      "\n",
      "Talk with all positive reactions:\n",
      "\tMatthew White: The modern euphonium\n",
      "\t4.0\n",
      "\t0.0\n",
      "\n",
      "Talk with all positive reactions:\n",
      "\tEdwidge Danticat: Stories of Haiti\n",
      "\t13.0\n",
      "\t0.0\n",
      "Processing transcript 600 of 2550\n",
      "\n",
      "Talk with all positive reactions:\n",
      "\tGeorge Whitesides: A lab the size of a postage stamp\n",
      "\t21.0\n",
      "\t0.0\n",
      "\n",
      "Talk with all positive reactions:\n",
      "\tPeter Eigen: How to expose the corrupt\n",
      "\t49.0\n",
      "\t0.0\n",
      "\n",
      "Talk with all positive reactions:\n",
      "\tCatherine Mohr: The tradeoffs of building green\n",
      "\t13.0\n",
      "\t0.0\n",
      "\n",
      "Talk with all positive reactions:\n",
      "\tLawrence Lessig: Re-examining the remix\n",
      "\t37.0\n",
      "\t0.0\n",
      "Processing transcript 700 of 2550\n",
      "\n",
      "Talk with all positive reactions:\n",
      "\tNatalie Jeremijenko: The art of the eco-mindshift\n",
      "\t27.0\n",
      "\t0.0\n",
      "Processing transcript 800 of 2550\n",
      "\n",
      "Talk with all positive reactions:\n",
      "\tKiran Bedi: A police chief with a difference\n",
      "\t185.0\n",
      "\t0.0\n",
      "\n",
      "Talk with all positive reactions:\n",
      "\tAnders Ynnerman: Visualizing the medical data explosion\n",
      "\t27.0\n",
      "\t0.0\n",
      "Processing transcript 900 of 2550\n",
      "\n",
      "Talk with all positive reactions:\n",
      "\tBruce Aylward: How we'll stop polio for good\n",
      "\t50.0\n",
      "\t0.0\n",
      "Processing transcript 1000 of 2550\n",
      "Processing transcript 1100 of 2550\n",
      "\n",
      "Talk with all positive reactions:\n",
      "\tCharles Hazlewood + British Paraorchestra: The debut of the British Paraorchestra\n",
      "\t11.0\n",
      "\t0.0\n",
      "\n",
      "Talk with all positive reactions:\n",
      "\tInara George: \"Family Tree\"\n",
      "\t1.0\n",
      "\t0.0\n",
      "Processing transcript 1200 of 2550\n",
      "\n",
      "Talk with all positive reactions:\n",
      "\tLiz Diller: A new museum wing ... in a giant bubble\n",
      "\t1.0\n",
      "\t0.0\n",
      "Processing transcript 1300 of 2550\n",
      "\n",
      "Talk with all positive reactions:\n",
      "\tNina Tandon: Could tissue engineering mean personalized medicine?\n",
      "\t79.0\n",
      "\t0.0\n",
      "Processing transcript 1400 of 2550\n",
      "Processing transcript 1500 of 2550\n",
      "\n",
      "Talk with all positive reactions:\n",
      "\tTwo young scientists break down plastics with bacteria\n",
      "\t14.0\n",
      "\t0.0\n",
      "Processing transcript 1600 of 2550\n",
      "\n",
      "Talk with all positive reactions:\n",
      "\tDavid Puttnam: Does the media have a \"duty of care\"?\n",
      "\t5.0\n",
      "\t0.0\n",
      "Processing transcript 1700 of 2550\n",
      "\n",
      "Talk with all positive reactions:\n",
      "\tTED staff: It's TED, the Musical\n",
      "\t1.0\n",
      "\t0.0\n",
      "\n",
      "Talk with all positive reactions:\n",
      "\tJoi Ito: Want to innovate? Become a \"now-ist\"\n",
      "\t19.0\n",
      "\t0.0\n",
      "\n",
      "Talk with all positive reactions:\n",
      "\tNikolai Begg: A tool to fix one of the most dangerous moments in surgery\n",
      "\t7.0\n",
      "\t0.0\n",
      "Processing transcript 1800 of 2550\n",
      "Processing transcript 1900 of 2550\n",
      "Processing transcript 2000 of 2550\n",
      "\n",
      "Talk with all positive reactions:\n",
      "\tMatt Kenyon: A secret memorial for civilian casualties\n",
      "\t5.0\n",
      "\t0.0\n",
      "Processing transcript 2100 of 2550\n",
      "\n",
      "Talk with all positive reactions:\n",
      "\tCaleb Harper: This computer will grow your food in the future\n",
      "\t0.0\n",
      "\t0.0\n",
      "Processing transcript 2200 of 2550\n",
      "\n",
      "Talk with all positive reactions:\n",
      "\tEric Haseltine: What will be the next big scientific breakthrough?\n",
      "\t18.0\n",
      "\t0.0\n",
      "Processing transcript 2300 of 2550\n",
      "Processing transcript 2400 of 2550\n",
      "\n",
      "Talk with all positive reactions:\n",
      "\tSebastián Bortnik: The conversation we're not having about digital child abuse\n",
      "\t1.0\n",
      "\t0.0\n",
      "\n",
      "Talk with all positive reactions:\n",
      "\tT. Morgan Dixon and Vanessa Garrison: When Black women walk, things change\n",
      "\t0.0\n",
      "\t0.0\n",
      "Processing transcript 2500 of 2550\n"
     ]
    }
   ],
   "source": [
    "yt_views = []\n",
    "yt_comments = []\n",
    "yt_like_dislike_ratio = []\n",
    "yt_comment_view_ratio = []\n",
    "\n",
    "yt_like = []\n",
    "yt_dislike = []\n",
    "\n",
    "for index, row in yt_data.iterrows():\n",
    "    \n",
    "    if index % 100 == 0:\n",
    "        print(f'Processing transcript {index} of {yt_num_talks}')\n",
    "    \n",
    "    # append to popularity metric lists\n",
    "    yt_views.append(row['youtube_viewCount'])\n",
    "    yt_comments.append(row['youtube_commentCount'])\n",
    "    try:\n",
    "        yt_like_dislike_ratio.append(row['youtube_likeCount']/row['youtube_dislikeCount'])\n",
    "    except:\n",
    "        print('\\nTalk with all positive reactions:')\n",
    "        print('\\t'+row['name'])\n",
    "        print('\\t'+str(row['youtube_likeCount']))\n",
    "        print('\\t'+str(row['youtube_dislikeCount']))\n",
    "        yt_like_dislike_ratio.append(row['youtube_likeCount']/1)\n",
    "    yt_comment_view_ratio.append(row['youtube_commentCount']/row['youtube_viewCount'])\n",
    "    \n",
    "    yt_like.append(row['youtube_likeCount'])\n",
    "    yt_dislike.append(row['youtube_dislikeCount'])"
   ]
  },
  {
   "cell_type": "code",
   "execution_count": 13,
   "metadata": {},
   "outputs": [
    {
     "name": "stdout",
     "output_type": "stream",
     "text": [
      "2550\n",
      "2550\n",
      "2550\n",
      "2550\n",
      "2550\n"
     ]
    }
   ],
   "source": [
    "# validate lengths\n",
    "print(yt_data.shape[0])\n",
    "print(len(yt_views))\n",
    "print(len(yt_comments))\n",
    "print(len(yt_like_dislike_ratio))\n",
    "print(len(yt_comment_view_ratio))"
   ]
  },
  {
   "cell_type": "markdown",
   "metadata": {},
   "source": [
    "# Compute Aggregate Metrics and Save Results"
   ]
  },
  {
   "cell_type": "code",
   "execution_count": 15,
   "metadata": {},
   "outputs": [],
   "source": [
    "agg_pos = [sum(x) for x in zip(ted_positive, yt_like)]\n",
    "agg_neg = [sum(x) for x in zip(ted_negative, yt_dislike)]\n",
    "\n",
    "agg_views = [sum(x) for x in zip(ted_views, yt_views)]\n",
    "agg_comments = [sum(x) for x in zip(ted_comments, yt_comments)]\n",
    "agg_comment_view_ratio = [x/y for x,y in zip(agg_comments, agg_views)]\n",
    "agg_pos_neg_ratio = [x/y for x,y in zip(agg_pos, agg_neg)]"
   ]
  },
  {
   "cell_type": "code",
   "execution_count": 16,
   "metadata": {},
   "outputs": [],
   "source": [
    "# Remove columns and add popularity metrics\n",
    "data = data.drop(columns=['comments','description','duration','event','film_date',\n",
    "                         'languages','main_speaker','num_speaker','published_date',\n",
    "                         'ratings','related_talks','speaker_occupation','tags',\n",
    "                         'title','url','views'])"
   ]
  },
  {
   "cell_type": "code",
   "execution_count": 17,
   "metadata": {},
   "outputs": [],
   "source": [
    "# add the metrics to the dataframe\n",
    "data['ted_views'] = ted_views\n",
    "data['ted_comments'] = ted_comments\n",
    "data['ted_engagement'] = comment_view_ratio\n",
    "data['ted_positivity'] = pos_neg_ratio\n",
    "\n",
    "data['yt_views'] = yt_views\n",
    "data['yt_comments'] = yt_comments\n",
    "data['yt_engagement'] = yt_comment_view_ratio\n",
    "data['yt_positivity'] = yt_like_dislike_ratio \n",
    "\n",
    "data['agg_views'] = agg_views\n",
    "data['agg_comments'] = agg_comments\n",
    "data['agg_engagement'] = agg_comment_view_ratio\n",
    "data['agg_positivity'] = agg_pos_neg_ratio"
   ]
  },
  {
   "cell_type": "code",
   "execution_count": 18,
   "metadata": {},
   "outputs": [
    {
     "data": {
      "text/html": [
       "<div>\n",
       "<style scoped>\n",
       "    .dataframe tbody tr th:only-of-type {\n",
       "        vertical-align: middle;\n",
       "    }\n",
       "\n",
       "    .dataframe tbody tr th {\n",
       "        vertical-align: top;\n",
       "    }\n",
       "\n",
       "    .dataframe thead th {\n",
       "        text-align: right;\n",
       "    }\n",
       "</style>\n",
       "<table border=\"1\" class=\"dataframe\">\n",
       "  <thead>\n",
       "    <tr style=\"text-align: right;\">\n",
       "      <th></th>\n",
       "      <th>name</th>\n",
       "      <th>ted_views</th>\n",
       "      <th>ted_comments</th>\n",
       "      <th>ted_engagement</th>\n",
       "      <th>ted_positivity</th>\n",
       "      <th>yt_views</th>\n",
       "      <th>yt_comments</th>\n",
       "      <th>yt_engagement</th>\n",
       "      <th>yt_positivity</th>\n",
       "      <th>agg_views</th>\n",
       "      <th>agg_comments</th>\n",
       "      <th>agg_engagement</th>\n",
       "      <th>agg_positivity</th>\n",
       "    </tr>\n",
       "  </thead>\n",
       "  <tbody>\n",
       "    <tr>\n",
       "      <th>0</th>\n",
       "      <td>Ken Robinson: Do schools kill creativity?</td>\n",
       "      <td>47227110</td>\n",
       "      <td>4553</td>\n",
       "      <td>0.00010</td>\n",
       "      <td>39.59256</td>\n",
       "      <td>17861752.0</td>\n",
       "      <td>10150.0</td>\n",
       "      <td>0.000568</td>\n",
       "      <td>59.014744</td>\n",
       "      <td>65088862.0</td>\n",
       "      <td>14703.0</td>\n",
       "      <td>0.000226</td>\n",
       "      <td>50.748159</td>\n",
       "    </tr>\n",
       "    <tr>\n",
       "      <th>1</th>\n",
       "      <td>Al Gore: Averting the climate crisis</td>\n",
       "      <td>3200520</td>\n",
       "      <td>265</td>\n",
       "      <td>0.00008</td>\n",
       "      <td>2.82790</td>\n",
       "      <td>187369.0</td>\n",
       "      <td>300.0</td>\n",
       "      <td>0.001601</td>\n",
       "      <td>3.187500</td>\n",
       "      <td>3387889.0</td>\n",
       "      <td>565.0</td>\n",
       "      <td>0.000167</td>\n",
       "      <td>2.913605</td>\n",
       "    </tr>\n",
       "    <tr>\n",
       "      <th>2</th>\n",
       "      <td>David Pogue: Simplicity sells</td>\n",
       "      <td>1636292</td>\n",
       "      <td>124</td>\n",
       "      <td>0.00008</td>\n",
       "      <td>4.68209</td>\n",
       "      <td>91385.0</td>\n",
       "      <td>52.0</td>\n",
       "      <td>0.000569</td>\n",
       "      <td>12.288462</td>\n",
       "      <td>1727677.0</td>\n",
       "      <td>176.0</td>\n",
       "      <td>0.000102</td>\n",
       "      <td>5.402550</td>\n",
       "    </tr>\n",
       "    <tr>\n",
       "      <th>3</th>\n",
       "      <td>Majora Carter: Greening the ghetto</td>\n",
       "      <td>1697550</td>\n",
       "      <td>200</td>\n",
       "      <td>0.00012</td>\n",
       "      <td>14.46888</td>\n",
       "      <td>151953.0</td>\n",
       "      <td>81.0</td>\n",
       "      <td>0.000533</td>\n",
       "      <td>27.434783</td>\n",
       "      <td>1849503.0</td>\n",
       "      <td>281.0</td>\n",
       "      <td>0.000152</td>\n",
       "      <td>16.547038</td>\n",
       "    </tr>\n",
       "    <tr>\n",
       "      <th>4</th>\n",
       "      <td>Hans Rosling: The best stats you've ever seen</td>\n",
       "      <td>12005869</td>\n",
       "      <td>593</td>\n",
       "      <td>0.00005</td>\n",
       "      <td>44.91398</td>\n",
       "      <td>3044685.0</td>\n",
       "      <td>979.0</td>\n",
       "      <td>0.000322</td>\n",
       "      <td>42.996324</td>\n",
       "      <td>15050554.0</td>\n",
       "      <td>1572.0</td>\n",
       "      <td>0.000104</td>\n",
       "      <td>43.967332</td>\n",
       "    </tr>\n",
       "  </tbody>\n",
       "</table>\n",
       "</div>"
      ],
      "text/plain": [
       "                                            name  ted_views  ted_comments  \\\n",
       "0      Ken Robinson: Do schools kill creativity?   47227110          4553   \n",
       "1           Al Gore: Averting the climate crisis    3200520           265   \n",
       "2                  David Pogue: Simplicity sells    1636292           124   \n",
       "3             Majora Carter: Greening the ghetto    1697550           200   \n",
       "4  Hans Rosling: The best stats you've ever seen   12005869           593   \n",
       "\n",
       "   ted_engagement  ted_positivity    yt_views  yt_comments  yt_engagement  \\\n",
       "0         0.00010        39.59256  17861752.0      10150.0       0.000568   \n",
       "1         0.00008         2.82790    187369.0        300.0       0.001601   \n",
       "2         0.00008         4.68209     91385.0         52.0       0.000569   \n",
       "3         0.00012        14.46888    151953.0         81.0       0.000533   \n",
       "4         0.00005        44.91398   3044685.0        979.0       0.000322   \n",
       "\n",
       "   yt_positivity   agg_views  agg_comments  agg_engagement  agg_positivity  \n",
       "0      59.014744  65088862.0       14703.0        0.000226       50.748159  \n",
       "1       3.187500   3387889.0         565.0        0.000167        2.913605  \n",
       "2      12.288462   1727677.0         176.0        0.000102        5.402550  \n",
       "3      27.434783   1849503.0         281.0        0.000152       16.547038  \n",
       "4      42.996324  15050554.0        1572.0        0.000104       43.967332  "
      ]
     },
     "execution_count": 18,
     "metadata": {},
     "output_type": "execute_result"
    }
   ],
   "source": [
    "data.head()"
   ]
  },
  {
   "cell_type": "code",
   "execution_count": 19,
   "metadata": {},
   "outputs": [],
   "source": [
    "data.to_csv('all_popularity_metrics.csv')"
   ]
  },
  {
   "cell_type": "code",
   "execution_count": 21,
   "metadata": {},
   "outputs": [
    {
     "data": {
      "text/plain": [
       "<matplotlib.collections.PathCollection at 0x11f2ce710>"
      ]
     },
     "execution_count": 21,
     "metadata": {},
     "output_type": "execute_result"
    },
    {
     "data": {
      "image/png": "[encoded data removed]",
      "text/plain": [
       "<Figure size 432x288 with 1 Axes>"
      ]
     },
     "metadata": {
      "needs_background": "light"
     },
     "output_type": "display_data"
    }
   ],
   "source": [
    "plt.scatter(data['ted_views'], data['yt_views'])"
   ]
  },
  {
   "cell_type": "code",
   "execution_count": 22,
   "metadata": {},
   "outputs": [
    {
     "data": {
      "text/plain": [
       "<matplotlib.collections.PathCollection at 0x11f412860>"
      ]
     },
     "execution_count": 22,
     "metadata": {},
     "output_type": "execute_result"
    },
    {
     "data": {
      "image/png": "[encoded data removed]",
      "text/plain": [
       "<Figure size 432x288 with 1 Axes>"
      ]
     },
     "metadata": {
      "needs_background": "light"
     },
     "output_type": "display_data"
    }
   ],
   "source": [
    "plt.scatter(data['ted_engagement'], data['yt_engagement'])"
   ]
  },
  {
   "cell_type": "code",
   "execution_count": 23,
   "metadata": {},
   "outputs": [
    {
     "data": {
      "text/plain": [
       "<matplotlib.collections.PathCollection at 0x11f38fd30>"
      ]
     },
     "execution_count": 23,
     "metadata": {},
     "output_type": "execute_result"
    },
    {
     "data": {
      "image/png": "[encoded data removed]",
      "text/plain": [
       "<Figure size 432x288 with 1 Axes>"
      ]
     },
     "metadata": {
      "needs_background": "light"
     },
     "output_type": "display_data"
    }
   ],
   "source": [
    "plt.scatter(data['ted_positivity'], data['yt_positivity'])"
   ]
  },
  {
   "cell_type": "code",
   "execution_count": null,
   "metadata": {},
   "outputs": [],
   "source": []
  }
 ],
 "metadata": {
  "kernelspec": {
   "display_name": "Python 3",
   "language": "python",
   "name": "python3"
  },
  "language_info": {
   "codemirror_mode": {
    "name": "ipython",
    "version": 3
   },
   "file_extension": ".py",
   "mimetype": "text/x-python",
   "name": "python",
   "nbconvert_exporter": "python",
   "pygments_lexer": "ipython3",
   "version": "3.7.0"
  }
 },
 "nbformat": 4,
 "nbformat_minor": 2
}
